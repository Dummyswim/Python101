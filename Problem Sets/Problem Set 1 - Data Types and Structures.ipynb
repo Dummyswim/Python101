{
 "cells": [
  {
   "cell_type": "markdown",
   "metadata": {},
   "source": [
    "## Problem Set 1 - Data Types and Structures\n",
    "\n",
    "This problem set will deal with questions on the various data types and structures we have covered in our sessions. \n",
    "Answer the questions and refer to the solution notebook that I'll provide later to self-check your notebook.\n",
    "\n",
    "The questions are not difficul. Feel free to refer to resources such as Stack Overflow and other websites to find the relevant answers. The important thing is that you all clear some of the doubts that you may have, while learning to learn on your own.\n",
    "\n",
    "To write an answer, follow the following steps:\n",
    "\n",
    "1. Double click the place where it says 'Answer'\n",
    "2. Write away\n",
    "\n",
    "In case you're asked to present code somewhere, use a fresh cell below the question and write your code there. To insert a cell, follow the following steps:\n",
    "\n",
    "1. Select the cell below or above which you want to insert a cell\n",
    "2. Find the 'Insert' menu in the menubar up above\n",
    "3. Select the 'Insert Cell Above' or 'Insert Cell Below' option as per your requirement\n",
    "\n",
    "Feel free to ping me on Slack in case you need any help or get stuck."
   ]
  },
  {
   "cell_type": "markdown",
   "metadata": {},
   "source": [
    "<hr>"
   ]
  },
  {
   "cell_type": "markdown",
   "metadata": {},
   "source": [
    "**1. List any four Python data types and structures, and the mention the following - (a) The data that they are suitable to store and (b) the nature of their mutability.**\n",
    "\n",
    "**Answer - **"
   ]
  },
  {
   "cell_type": "markdown",
   "metadata": {},
   "source": [
    "**2. Say you have a variable, `a`, meant to store a number. You're told that the number can get very big, possibly crossing a value greater than 2<sup>64</sup>. When you assign this number to the variable, which data type is the variable likely to take?**\n",
    "\n",
    "_Hint: Try finding out the size-limits of the various numerical data types in Python._\n",
    "\n",
    "**Answer - **"
   ]
  },
  {
   "cell_type": "markdown",
   "metadata": {},
   "source": [
    "**3. You're working in a big, hotshot compnay. The company has records of employees. Each employee has the characteristics, `name`, `age` and `address`. You're asked to build a Python application that potentially does some fancy things. In this application, you're supposed to store the employee records in such a way that any operation on them does not change the original values. Which data type would you use and why? You may use nested data structures.**\n",
    "\n",
    "**Answer - **"
   ]
  },
  {
   "cell_type": "markdown",
   "metadata": {},
   "source": [
    "**4. In the above mentioned company, you notice that a newbie Python developer working with you on the same application has used the following structure to store the employee records (say 3):**\n",
    "\n",
    "```python\n",
    "labels = [1, 2, 3]\n",
    "employees = [['Ram', 25, 'California'],\n",
    "             ['Ramesh', 28, 'Delhi'],\n",
    "             ['Mahesh', 24, 'Florence']]  # We Indians are everywhere\n",
    "```\n",
    "\n",
    "**When you ask them why they are doing this, they explain that their aim is to give each employee a numerical identifier, which they have stored in the `labels` variable. You know that these numerical identifiers are important in your application, but you also see that the employee's approach to it is wrong.**\n",
    "\n",
    "**What is the correct approach?**"
   ]
  },
  {
   "cell_type": "markdown",
   "metadata": {},
   "source": [
    "**Answer - **"
   ]
  },
  {
   "cell_type": "markdown",
   "metadata": {},
   "source": [
    "**5. You have the following list:**\n",
    "\n",
    "```python\n",
    "l = [1, 2, 3, 4, 5, 6, 7, 8, 9, 10]\n",
    "```\n",
    "\n",
    "**Do the following:**\n",
    "\n",
    "1. **Extract the subset starting at index 2 and ending at index 6**\n",
    "2. **Show the two ways by which you can extract the last item in the list**\n",
    "3. **Change the value at the 5th index to any string value**\n",
    "4. **Reverse the list by using index notation**\n",
    "5. **Without changing the original list, create a new list using `l` with `[100, 200, 300]` concatenated to it**\n",
    "\n",
    "**Write your code below.**\n",
    "\n",
    "**(You'll need to first write out the list in full in the cell)**"
   ]
  },
  {
   "cell_type": "code",
   "execution_count": null,
   "metadata": {},
   "outputs": [],
   "source": []
  },
  {
   "cell_type": "markdown",
   "metadata": {},
   "source": [
    "**6. In a code review, your reviewer questions your choice of using a dictionary to store labelled data that you need to access multiple times using the labels as fast as possible. The reviewer has been newly recruited and is not as familiar with Python as he is with C or C++. You're not a meek employee and believe in standing up to injustice. What would an ideal argument be against this?**\n",
    "\n",
    "_Hint: Try to find out the speed of dictionaries._\n",
    "\n",
    "**Answer - **"
   ]
  },
  {
   "cell_type": "markdown",
   "metadata": {},
   "source": [
    "**7. Store the value, `Python's beauty is in its syntax and expressiveness`. Would you use a double-quoted string or a single-quoted string? Explain.**\n",
    "\n",
    "**(Write your code in the next cell)**\n",
    "\n",
    "**Answer - ** "
   ]
  },
  {
   "cell_type": "markdown",
   "metadata": {},
   "source": [
    "**8. In that hotshot company of yours, another newbie has been assigned the work of extracting the unique ages among all the employees. The company wishes to identify the unique age groups its employees belong to. He has been provided with a list of the ages called `ages`. He uses the following technique:**\n",
    "\n",
    "```python\n",
    "unique_ages = []\n",
    "for age in ages:\n",
    "    if age not in unique_ages:\n",
    "        unique_ages.append(age)\n",
    "        \n",
    "print(unique_ages)        \n",
    "```\n",
    "\n",
    "**While you believe in giving people a chance, you clearly know there is a much simpler approach to this problem. What is the approach?**\n",
    "\n",
    "**Write your code below.**"
   ]
  },
  {
   "cell_type": "markdown",
   "metadata": {},
   "source": [
    "**9. Look at following code block:**"
   ]
  },
  {
   "cell_type": "code",
   "execution_count": 2,
   "metadata": {},
   "outputs": [
    {
     "ename": "TypeError",
     "evalue": "'str' object does not support item assignment",
     "output_type": "error",
     "traceback": [
      "\u001b[0;31m---------------------------------------------------------------------------\u001b[0m",
      "\u001b[0;31mTypeError\u001b[0m                                 Traceback (most recent call last)",
      "\u001b[0;32m<ipython-input-2-ce4752d25ab6>\u001b[0m in \u001b[0;36m<module>\u001b[0;34m()\u001b[0m\n\u001b[1;32m      1\u001b[0m \u001b[0mname\u001b[0m \u001b[0;34m=\u001b[0m \u001b[0;34m'Amity Kolkata'\u001b[0m\u001b[0;34m\u001b[0m\u001b[0m\n\u001b[0;32m----> 2\u001b[0;31m \u001b[0mname\u001b[0m\u001b[0;34m[\u001b[0m\u001b[0;36m0\u001b[0m\u001b[0;34m]\u001b[0m \u001b[0;34m=\u001b[0m \u001b[0;34m'2'\u001b[0m\u001b[0;34m\u001b[0m\u001b[0m\n\u001b[0m",
      "\u001b[0;31mTypeError\u001b[0m: 'str' object does not support item assignment"
     ]
    }
   ],
   "source": [
    "name = 'Amity Kolkata'\n",
    "name[0] = '2'"
   ]
  },
  {
   "cell_type": "markdown",
   "metadata": {},
   "source": [
    "**Explain why the interpreter threw this error.**\n",
    "\n",
    "**Answer - **"
   ]
  },
  {
   "cell_type": "markdown",
   "metadata": {},
   "source": [
    "**10. Look at the following code block:**\n",
    "\n",
    "```python\n",
    "weird_tuple = ([1, 2, 3], 'AUK', 12, 'Python')\n",
    "weird_tuple[0] += [4, 5]\n",
    "```\n",
    "**Explain what the code's author is trying to do. Do you think this will work? Why or why not? Is there any odd behavior that you expect here?**\n",
    "\n",
    "**(Don't run the code)**"
   ]
  },
  {
   "cell_type": "markdown",
   "metadata": {},
   "source": [
    "**Answer - **"
   ]
  }
 ],
 "metadata": {
  "kernelspec": {
   "display_name": "Python 3",
   "language": "python",
   "name": "python3"
  },
  "language_info": {
   "codemirror_mode": {
    "name": "ipython",
    "version": 3
   },
   "file_extension": ".py",
   "mimetype": "text/x-python",
   "name": "python",
   "nbconvert_exporter": "python",
   "pygments_lexer": "ipython3",
   "version": "3.6.5"
  }
 },
 "nbformat": 4,
 "nbformat_minor": 2
}
